{
 "cells": [
  {
   "cell_type": "markdown",
   "id": "be8a81d9-4667-4eef-bb98-1335ec2525dc",
   "metadata": {},
   "source": [
    "# USING THE MODEL "
   ]
  },
  {
   "cell_type": "code",
   "execution_count": 14,
   "id": "70f26359-6ae3-43e2-ac84-7e68f2cdcb89",
   "metadata": {},
   "outputs": [],
   "source": [
    "from joblib import dump,load\n",
    "import numpy as np\n",
    "model=load('DEPP.joblib')"
   ]
  },
  {
   "cell_type": "code",
   "execution_count": 22,
   "id": "1ab73fa1-b328-4076-8da0-9b58e8227ad0",
   "metadata": {},
   "outputs": [
    {
     "data": {
      "text/plain": [
       "array([4017.386 , 4222.7986, 5635.3403, 3754.1434, 5246.3632])"
      ]
     },
     "execution_count": 22,
     "metadata": {},
     "output_type": "execute_result"
    }
   ],
   "source": [
    "featurest=np.array([[ 0.01805363, -0.38421796,  0.35194104, -0.56525144],\n",
    "                    [ 0.25658433, -0.09859267,  0.86899432, -0.53034059],\n",
    "                    [ 0.37584967, -0.043472  ,  0.89940922, -0.54732425],\n",
    "                    [ 0.829058  , -0.13868043,  0.16945165, -0.53034059],\n",
    "                    [ 0.32814353,  3.13348297, -1.34521031,  1.79264656]])\n",
    "model.predict(features)\n",
    "# print(features.shape)\n"
   ]
  },
  {
   "cell_type": "code",
   "execution_count": null,
   "id": "df6376bc-35f5-4da2-8aad-68710df628f3",
   "metadata": {},
   "outputs": [],
   "source": []
  }
 ],
 "metadata": {
  "kernelspec": {
   "display_name": "Python 3 (ipykernel)",
   "language": "python",
   "name": "python3"
  },
  "language_info": {
   "codemirror_mode": {
    "name": "ipython",
    "version": 3
   },
   "file_extension": ".py",
   "mimetype": "text/x-python",
   "name": "python",
   "nbconvert_exporter": "python",
   "pygments_lexer": "ipython3",
   "version": "3.12.4"
  }
 },
 "nbformat": 4,
 "nbformat_minor": 5
}
