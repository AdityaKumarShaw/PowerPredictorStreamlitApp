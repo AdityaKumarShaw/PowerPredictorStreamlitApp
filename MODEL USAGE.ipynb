{
 "cells": [
  {
   "cell_type": "markdown",
   "id": "be8a81d9-4667-4eef-bb98-1335ec2525dc",
   "metadata": {},
   "source": [
    "# USING THE MODEL "
   ]
  },
  {
   "cell_type": "code",
   "execution_count": 1,
   "id": "70f26359-6ae3-43e2-ac84-7e68f2cdcb89",
   "metadata": {},
   "outputs": [],
   "source": [
    "from joblib import dump,load\n",
    "import numpy as np\n",
    "model=load('DEPP.joblib')"
   ]
  },
  {
   "cell_type": "code",
   "execution_count": 2,
   "id": "1ab73fa1-b328-4076-8da0-9b58e8227ad0",
   "metadata": {},
   "outputs": [
    {
     "data": {
      "text/plain": [
       "array([3934.1597])"
      ]
     },
     "execution_count": 2,
     "metadata": {},
     "output_type": "execute_result"
    }
   ],
   "source": [
    "features=np.array([[ 0.01805363, -0.38421796,  0.35194104, -0.56525144]])\n",
    "model.predict(features)\n",
    "# print(features.shape)\n"
   ]
  },
  {
   "cell_type": "code",
   "execution_count": null,
   "id": "007d5b28-b453-413f-b8c6-e1054a282b3b",
   "metadata": {},
   "outputs": [],
   "source": []
  }
 ],
 "metadata": {
  "kernelspec": {
   "display_name": "Python 3 (ipykernel)",
   "language": "python",
   "name": "python3"
  },
  "language_info": {
   "codemirror_mode": {
    "name": "ipython",
    "version": 3
   },
   "file_extension": ".py",
   "mimetype": "text/x-python",
   "name": "python",
   "nbconvert_exporter": "python",
   "pygments_lexer": "ipython3",
   "version": "3.12.4"
  }
 },
 "nbformat": 4,
 "nbformat_minor": 5
}
