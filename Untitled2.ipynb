{
 "cells": [
  {
   "cell_type": "markdown",
   "id": "8c8fbb17-7a25-422d-8667-3b50fa69a246",
   "metadata": {},
   "source": [
    "# USING MODEL"
   ]
  },
  {
   "cell_type": "code",
   "execution_count": 5,
   "id": "7c8d1987-2b4a-4f5c-b170-ab5d46096ee9",
   "metadata": {},
   "outputs": [],
   "source": [
    "from joblib import dump,load\n",
    "import numpy as np\n",
    "model=load('DEPP.joblib')"
   ]
  },
  {
   "cell_type": "code",
   "execution_count": 6,
   "id": "0ccda3a5-30b6-4301-8d57-e0e2c5572785",
   "metadata": {},
   "outputs": [
    {
     "data": {
      "text/plain": [
       "array([3934.1597])"
      ]
     },
     "execution_count": 6,
     "metadata": {},
     "output_type": "execute_result"
    }
   ],
   "source": [
    "features=np.array([[ 0.01805363, -0.38421796,  0.35194104, -0.56525144]])\n",
    "model.predict(features)\n",
    "# print(features.shape)"
   ]
  }
 ],
 "metadata": {
  "kernelspec": {
   "display_name": "Python 3 (ipykernel)",
   "language": "python",
   "name": "python3"
  },
  "language_info": {
   "codemirror_mode": {
    "name": "ipython",
    "version": 3
   },
   "file_extension": ".py",
   "mimetype": "text/x-python",
   "name": "python",
   "nbconvert_exporter": "python",
   "pygments_lexer": "ipython3",
   "version": "3.12.4"
  }
 },
 "nbformat": 4,
 "nbformat_minor": 5
}
